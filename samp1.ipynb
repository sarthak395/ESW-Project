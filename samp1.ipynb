{
  "nbformat": 4,
  "nbformat_minor": 0,
  "metadata": {
    "colab": {
      "provenance": [],
      "mount_file_id": "1BeuwLXdasRRws_fQfyOOcZOjhLZDEDeX",
      "authorship_tag": "ABX9TyOxm6YqG/fY4U5mZt3TtAKN",
      "include_colab_link": true
    },
    "kernelspec": {
      "name": "python3",
      "display_name": "Python 3"
    },
    "language_info": {
      "name": "python"
    }
  },
  "cells": [
    {
      "cell_type": "markdown",
      "metadata": {
        "id": "view-in-github",
        "colab_type": "text"
      },
      "source": [
        "<a href=\"https://colab.research.google.com/github/sarthak395/ESW-Project/blob/main/samp1.ipynb\" target=\"_parent\"><img src=\"https://colab.research.google.com/assets/colab-badge.svg\" alt=\"Open In Colab\"/></a>"
      ]
    },
    {
      "cell_type": "code",
      "execution_count": 2,
      "metadata": {
        "id": "i_TqyEQGVmcv"
      },
      "outputs": [],
      "source": [
        "import pandas as pd\n",
        "import re"
      ]
    },
    {
      "cell_type": "code",
      "source": [
        "# LOADING DATA\n",
        "data = pd.read_csv('monitor.csv')\n",
        "names = data['Name'];\n",
        "details = data['Details']\n",
        "print(names)"
      ],
      "metadata": {
        "colab": {
          "base_uri": "https://localhost:8080/"
        },
        "id": "Wi7kfMpqVsb3",
        "outputId": "173f07a0-d6fc-4d96-b4fe-af4ef083bc0f"
      },
      "execution_count": 3,
      "outputs": [
        {
          "output_type": "stream",
          "name": "stdout",
          "text": [
            "0              LG 18.5 INCH LED GAMING MONITOR (19M38AB)\n",
            "1      LG 19M38HB - 19 Inch Monitor (5ms Response Tim...\n",
            "2      HP 24y - 24 Inch Monitor (8ms Response Time, F...\n",
            "3      LG 20M39H - 20 Inch Monitor (5ms Response Time...\n",
            "4      LG 22MK600M - 22 Inch Gaming Monitor (AMD Free...\n",
            "                             ...                        \n",
            "195                 GIGABYTE M27F 27 INCH GAMING MONITOR\n",
            "196                 GIGABYTE G27Q 27 INCH GAMING MONITOR\n",
            "197                 GIGABYTE M27Q 27 INCH GAMING MONITOR\n",
            "198    BenQ GL2780 - 27 Inch Eye-Care Monitor (1ms Re...\n",
            "199    Samsung LS24F350FHWXXL - 24 Inch Gaming Monito...\n",
            "Name: Name, Length: 200, dtype: object\n"
          ]
        }
      ]
    },
    {
      "cell_type": "code",
      "source": [
        "# GETTING INCH SIZE\n",
        "expression = '(([0-9]+)*(\\.)*([0-9]+))([\\-]{0,1})([\\s]{0,1})(?i)inch'\n",
        "incheslist = [];\n",
        "\n",
        "for ind in data.index:\n",
        "  # print(data['Name'][ind])\n",
        "  data['Name'][ind] = re.sub(r'â€³', '', data['Name'][ind]) \n",
        "  data['Details'][ind] = re.sub(r'â€³', '', data['Details'][ind])\n",
        "\n",
        "  data['Name'][ind] = re.sub('â€', '', data['Name'][ind]) \n",
        "  data['Details'][ind] = re.sub('â€', '', data['Details'][ind])\n",
        "\n",
        "  inch_search = re.search(expression, data['Name'][ind]);\n",
        "  if not inch_search:\n",
        "    inch2_search = re.search(expression, data['Details'][ind]);\n",
        "    if inch2_search:\n",
        "      incheslist.append(inch2_search.group(1));\n",
        "      print(\"Found in details \",inch2_search.group(1));\n",
        "    else:\n",
        "      expr2 = ' (([0-9]+)*(\\.)*([0-9]+))([\\-]{0,1})([\\s]{0,1}) '\n",
        "      inch3_search = re.search(expr2, data['Name'][ind]);\n",
        "      if(inch3_search):\n",
        "        incheslist.append(inch3_search.group(1));\n",
        "      else:\n",
        "        inch4_search = re.search(expr2, data['Details'][ind]);\n",
        "        if(inch4_search):\n",
        "          incheslist.append(inch4_search.group(1));\n",
        "        else:\n",
        "          incheslist.append(None);\n",
        "  else:\n",
        "    incheslist.append(inch_search.group(1))\n",
        "\n",
        "incheslist = pd.Series(incheslist)\n",
        "data['inches'] = incheslist"
      ],
      "metadata": {
        "id": "oCJ0pf0IWGqc"
      },
      "execution_count": null,
      "outputs": []
    },
    {
      "cell_type": "code",
      "source": [
        "for inches in data['inches']:\n",
        "  if not inches:\n",
        "    print(inches)"
      ],
      "metadata": {
        "id": "Z8_ILUZVa_1O"
      },
      "execution_count": null,
      "outputs": []
    },
    {
      "cell_type": "code",
      "source": [
        "# EXTRACTED MODEL NUMBERS FOR LG\n",
        "expression = 'LG '\n",
        "lglist = [];\n",
        "for name in names:\n",
        "  inch_search = re.search(expression, name);\n",
        "  if inch_search:\n",
        "    lglist.append(name);\n",
        "\n",
        "lglist = pd.Series(lglist)\n",
        "lgmodelnumbers = []\n",
        "# now we have to find model no.\n",
        "model_expression = '\\d{2}[MUBG][A-Za-z0-9]*(-B)?'\n",
        "for name in lglist:\n",
        "  inch_search = re.search(model_expression,name);\n",
        "  if inch_search:\n",
        "    lgmodelnumbers.append({\"name\":name , \"model\" : inch_search.group(0)})\n",
        "  else:\n",
        "    print(name)\n",
        "\n",
        "lgmodelnumbers = pd.DataFrame(lgmodelnumbers);"
      ],
      "metadata": {
        "id": "umySWsOJyuWr"
      },
      "execution_count": 39,
      "outputs": []
    },
    {
      "cell_type": "code",
      "source": [
        "#EXTRACTED MODEL NUMBERS FOR HP\n",
        "expression = 'HP '\n",
        "hplist = [];\n",
        "for name in names:\n",
        "  inch_search = re.search(expression, name);\n",
        "  if inch_search:\n",
        "    hplist.append(name);\n",
        "\n",
        "hplist = pd.Series(hplist)\n",
        "hpmodelnumbers = []\n",
        "# now we have to find model no.\n",
        "model_expression = '(HP) (V?\\d{1,2}[A-Za-z0-9]*) '\n",
        "for name in hplist:\n",
        "  inch_search = re.search(model_expression,name);\n",
        "  if inch_search:\n",
        "    hpmodelnumbers.append({\"name\":name , \"model\" : inch_search.group(2)})\n",
        "  else:\n",
        "    print(name)\n",
        "\n",
        "hpmodelnumbers = pd.DataFrame(hpmodelnumbers);"
      ],
      "metadata": {
        "id": "zQJf-4_A77rI"
      },
      "execution_count": 40,
      "outputs": []
    },
    {
      "cell_type": "code",
      "source": [
        "# EXTRACTING MODEL NUMBER FOR SAMSUNG\n",
        "expression = '(?i)samsung '\n",
        "samlist = [];\n",
        "for name in names:\n",
        "  inch_search = re.search(expression, name);\n",
        "  if inch_search:\n",
        "    samlist.append(name);\n",
        "\n",
        "\n",
        "samlist = pd.Series(samlist)\n",
        "sammodelnumbers = []\n",
        "# now we have to find model no.\n",
        "model_expression = '(LC|LF|LS|LU)\\w*(WXXL)?'\n",
        "for name in samlist:\n",
        "  inch_search = re.search(model_expression,name);\n",
        "  if inch_search:\n",
        "    sammodelnumbers.append({\"name\":name , \"model\" : inch_search.group(0)})\n",
        "  else:\n",
        "    print(name)\n",
        "\n",
        "# ONLY CASE WHERE MODEL NUMBER WAS IN DETAILS\n",
        "sammodelnumbers.append({\"name\":\"SAMSUNG 27 INCH CURVED FULL HD 1800R LED MONITOR\" , \"model\":\"LC27F591FDWXXL\"})\n",
        "\n",
        "sammodelnumbers = pd.DataFrame(sammodelnumbers);"
      ],
      "metadata": {
        "colab": {
          "base_uri": "https://localhost:8080/"
        },
        "id": "bX1ttmS--aUo",
        "outputId": "357e0615-1c63-4558-c1a1-c1a65dacf25e"
      },
      "execution_count": 42,
      "outputs": [
        {
          "output_type": "stream",
          "name": "stdout",
          "text": [
            "SAMSUNG 27 INCH CURVED FULL HD 1800R LED MONITOR\n"
          ]
        }
      ]
    },
    {
      "cell_type": "code",
      "source": [
        "# EXTRACTING MODEL NUMBERS FOR ACER\n",
        "expression = '(?i)acer '\n",
        "acerlist = [];\n",
        "for name in names:\n",
        "  inch_search = re.search(expression, name);\n",
        "  if inch_search:\n",
        "    acerlist.append(name);\n",
        "\n",
        "\n",
        "acerlist = pd.Series(acerlist)\n",
        "acermodelnumbers = []\n",
        "# now we have to find model no.\n",
        "model_expression = '((?i)acer) (((?i)(nitro|aopen) )?[A-Za-z]+[\\d+][A-Za-z0-9]*) '\n",
        "for name in acerlist:\n",
        "  inch_search = re.search(model_expression,name);\n",
        "  if inch_search:\n",
        "    acermodelnumbers.append({\"name\":name , \"model\" : inch_search.group(2)})\n",
        "  else:\n",
        "    print(name)\n",
        "\n",
        "acermodelnumbers = pd.DataFrame(acermodelnumbers);"
      ],
      "metadata": {
        "colab": {
          "base_uri": "https://localhost:8080/"
        },
        "id": "_Vc07Cz--dHw",
        "outputId": "cede9a21-a6d0-4777-cf74-c698899887ab"
      },
      "execution_count": 94,
      "outputs": [
        {
          "output_type": "stream",
          "name": "stdout",
          "text": [
            "Acer Aopen 27HC1R - 27 Inch Curved Gaming Monitor (1800R Curved, AMD FreeSync, 4ms Response Time, 144Hz Refresh Rate, Frameless, FHD VA Panel, DVI, HDMI, DisplayPort)\n",
            "Acer 24 Inch KG241QS AMD FreeSync 0.5ms Response Time 165Hz Refresh Rate Gaming Monitor\n",
            "ACER NITRO VG 24 INCH FULL HD VG240YPBIIP GAMING MONITOR\n",
            "Acer Predator XB271HU - 27 Inch Gaming Monitor (Nvidia G-Sync, 4Ms Response Time, 144Hz Refresh Rate, 2K WQHD IPS Panel, HDMI, DisplayPort, Speakers)\n"
          ]
        }
      ]
    },
    {
      "cell_type": "code",
      "source": [
        "print(acermodelnumbers)"
      ],
      "metadata": {
        "colab": {
          "base_uri": "https://localhost:8080/"
        },
        "id": "B02ryOVeHJam",
        "outputId": "16e09821-e998-468c-b440-a0a9a53656f5"
      },
      "execution_count": 95,
      "outputs": [
        {
          "output_type": "stream",
          "name": "stdout",
          "text": [
            "                                                 name          model\n",
            "0   Acer CB271HK - 27 Inch 100% sRGB Gaming Monito...        CB271HK\n",
            "1   Acer EB321HQ - 32 Inch Monitor (4ms Response T...        EB321HQ\n",
            "2   Acer ED322Q 32 Inch Curved Gaming Monitor (4ms...         ED322Q\n",
            "3   Acer ET221Q - 22 Inch Monitor (4ms Response Ti...         ET221Q\n",
            "4   Acer ET271 - 27 Inch Monitor (4ms Response Tim...          ET271\n",
            "5   Acer ET322QK 32 Inch Gaming Monitor (AMD FreeS...        ET322QK\n",
            "6   Acer GN246HL 24 Inch 3D Gaming Monitor (1ms Re...        GN246HL\n",
            "7   Acer K222HQL - 22 Inch Monitor (5ms Response T...        K222HQL\n",
            "8   ACER KA220HQ 22 Inch Monitor (5ms Response Tim...        KA220HQ\n",
            "9   Acer KA240H 24 Inch Monitor (5ms Response Time...         KA240H\n",
            "10  Acer KG271 - 27 Inch Gaming Monitor (AMD FreeS...          KG271\n",
            "11  Acer KG271C - 27 Inch Gaming Monitor (AMD Free...         KG271C\n",
            "12  ACER KG281K â€“ 28 Inch Gaming Monitor (Amd Fr...         KG281K\n",
            "13  Acer Nitro QG221Q 22 Inch Gaming Monitor (AMD ...   Nitro QG221Q\n",
            "14  Acer S271HL H - 27 Inch Monitor (1ms Response ...         S271HL\n",
            "15                       Acer NITRO VG0 VG270 27 Inch      NITRO VG0\n",
            "16  Acer KG1 27 inch 144 Hz Gaming Monitor KG271C ...            KG1\n",
            "17  Acer ED242QR 24 Inch Curved Gaming Monitor (18...        ED242QR\n",
            "18  Acer Nitro VG240P 144Hz Full HD IPS Gaming Mon...   Nitro VG240P\n",
            "19  Acer VG240Y - 24 Inch Gaming Monitor (AMD Free...         VG240Y\n",
            "20  Acer Nitro VG270P IPS 27 inch 144Hz Free Sync ...   Nitro VG270P\n",
            "21  Acer VG271U 27 Inch 100% sRGB Gaming Monitor (...         VG271U\n",
            "22  Acer KG271 - 27 Inch Gaming Monitor (AMD FreeS...          KG271\n",
            "23  Acer ED273UR P - 27 Inch Curved Gaming Monitor...        ED273UR\n",
            "24  Acer EK240Y - 24 Inch Monitor (5ms Response Ti...         EK240Y\n",
            "25  Acer RT240Y - 24 Inch Monitor (4ms Response Ti...         RT240Y\n",
            "26  Acer SA240Y - 24 Inch Monitor (4ms Response Ti...         SA240Y\n",
            "27  Acer ED273 - 27 Inch Curved Gaming Monitor (4m...          ED273\n",
            "28  Acer Nitro QG271 - 27 Inch Gaming Monitor (AMD...    Nitro QG271\n",
            "29        ACER NITRO VG240YS 165HZ IPS GAMING MONITOR  NITRO VG240YS\n",
            "30  Acer B247Y Dbmiprczx - 24 Inch Gaming Monitor ...          B247Y\n",
            "31  Acer Nitro XV270 Pbmiiprx - 27 Inch Gaming Mon...    Nitro XV270\n"
          ]
        }
      ]
    }
  ]
}